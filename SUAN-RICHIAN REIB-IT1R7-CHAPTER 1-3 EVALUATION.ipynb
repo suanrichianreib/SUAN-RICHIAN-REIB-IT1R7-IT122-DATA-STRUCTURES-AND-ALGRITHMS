{
 "cells": [
  {
   "cell_type": "code",
   "execution_count": 3,
   "id": "appreciated-congo",
   "metadata": {
    "collapsed": true,
    "jupyter": {
     "outputs_hidden": true
    },
    "tags": []
   },
   "outputs": [
    {
     "name": "stdout",
     "output_type": "stream",
     "text": [
      "Discuss your learnings on Chapter 1 time-frame 8:00 - 30:35. Minimum of 200 characters\n",
      "Chapter 1 learnings are the following\n",
      "\n",
      "Correctness, time complexity, and space complexity are characteristics that we need to follow in making Data Structure.\n",
      "There are three cases which are usually used to compare various data structure’s execution time in a relative manner and these are Worst Case, Average Case, and Best Case.\n",
      "We need to learn data structure and algorithm to help us in understanding the problem better.\n",
      "Five parts of applications of data structure and algorithms are Search, Sort, Insert, Update, and Delete.\n",
      "Algorithm is a sequence of computational procedure that transform the input into the output.\n",
      "We have also characteristics that we need to follow in making algorithm, and these are Unambiguous means it should be clear, Input and Output must well-defined, Finiteness, Feasibility, and Independent.\n",
      "Algorithm writing is executed after the problem domain is well-defined.\n",
      "The Algorithm writing should start with Step 1 - START and ends with last step which is the STOP.\n"
     ]
    }
   ],
   "source": [
    "print(\"Discuss your learnings on Chapter 1 time-frame 8:00 - 30:35. Minimum of 200 characters\")\n",
    "\n",
    "print(\"Chapter 1 learnings are the following\")\n",
    "print(\"\\nCorrectness, time complexity, and space complexity are characteristics that we need to follow in making Data Structure.\")\n",
    "print(\"There are three cases which are usually used to compare various data structure’s execution time in a relative manner and these are Worst Case, Average Case, and Best Case.\")\n",
    "print(\"We need to learn data structure and algorithm to help us in understanding the problem better.\")\n",
    "print(\"Five parts of applications of data structure and algorithms are Search, Sort, Insert, Update, and Delete.\")\n",
    "print(\"Algorithm is a sequence of computational procedure that transform the input into the output.\")\n",
    "print(\"We have also characteristics that we need to follow in making algorithm, and these are Unambiguous means it should be clear, Input and Output must well-defined, Finiteness, Feasibility, and Independent.\")\n",
    "print(\"Algorithm writing is executed after the problem domain is well-defined.\")\n",
    "print(\"The Algorithm writing should start with Step 1 - START and ends with last step which is the STOP.\")"
   ]
  },
  {
   "cell_type": "code",
   "execution_count": 1,
   "id": "guilty-warehouse",
   "metadata": {
    "collapsed": true,
    "jupyter": {
     "outputs_hidden": true
    },
    "tags": []
   },
   "outputs": [
    {
     "name": "stdout",
     "output_type": "stream",
     "text": [
      "Discuss your learnings on Chapter 1 time-frame 35:00 - end. Minimum of 200 characters\n",
      "Chapter 1 learnings are the following\n",
      "\n",
      "Priori Analysis is a theoretical analysis of an algorithm while Posterior Analysis is an empirical analysis of an algorithm.\n",
      "The two factors of complexity of an algorithm are Time Factor and Space Factor. Algorithm complexity gives running time and/or the memory space required by the algorithm based on the size of input data.\n",
      "Space Complexity that represents the amount of storage space required by the algorithm in its life cycle while Time Complexity represents the amount of time required by the algorithm to run to completion.\n",
      "We need to install python IDE to make programs and apply what we’ve learn in this chapter and in the future.\n"
     ]
    }
   ],
   "source": [
    "print(\"Discuss your learnings on Chapter 1 time-frame 35:00 - end. Minimum of 200 characters\")\n",
    "\n",
    "print(\"Chapter 1 learnings are the following\")\n",
    "print(\"\\nPriori Analysis is a theoretical analysis of an algorithm while Posterior Analysis is an empirical analysis of an algorithm.\")\n",
    "print(\"The two factors of complexity of an algorithm are Time Factor and Space Factor. Algorithm complexity gives running time and/or the memory space required by the algorithm based on the size of input data.\")\n",
    "print(\"Space Complexity that represents the amount of storage space required by the algorithm in its life cycle while Time Complexity represents the amount of time required by the algorithm to run to completion.\")\n",
    "print(\"We need to install python IDE to make programs and apply what we’ve learn in this chapter and in the future.\")"
   ]
  },
  {
   "cell_type": "code",
   "execution_count": 3,
   "id": "covered-content",
   "metadata": {
    "collapsed": true,
    "jupyter": {
     "outputs_hidden": true
    },
    "tags": []
   },
   "outputs": [
    {
     "name": "stdout",
     "output_type": "stream",
     "text": [
      "Discuss your learnings on Chapter 2 time-frame 5:00 - 9:00. Minimum of 200 characters \n",
      "Chapter 2 learnings are the following\n",
      "\n",
      "Data type is a classification of various types of data such as string, float, double, and many others, which determines the values with the corresponding type of data, and also the type of operations that can be performed on the corresponding type of data.\n",
      "Built-in Data types are Data types for which a language has built-in support.\n",
      "List, Array, Stack, Queue are derived data types which are implementation-independent.\n",
      "The basic operations are Traversing, Searching, Insertion, Updating, Deletion, Sorting, and Merging.\n"
     ]
    }
   ],
   "source": [
    "print(\"Discuss your learnings on Chapter 2 time-frame 5:00 - 9:00. Minimum of 200 characters \")\n",
    "\n",
    "print(\"Chapter 2 learnings are the following\")\n",
    "print(\"\\nData type is a classification of various types of data such as string, float, double, and many others, which determines the values with the corresponding type of data, and also the type of operations that can be performed on the corresponding type of data.\")\n",
    "print(\"Built-in Data types are Data types for which a language has built-in support.\")\n",
    "print(\"List, Array, Stack, Queue are derived data types which are implementation-independent.\")\n",
    "print(\"The basic operations are Traversing, Searching, Insertion, Updating, Deletion, Sorting, and Merging.\")"
   ]
  },
  {
   "cell_type": "code",
   "execution_count": 4,
   "id": "respected-tobago",
   "metadata": {
    "collapsed": true,
    "jupyter": {
     "outputs_hidden": true
    },
    "tags": []
   },
   "outputs": [
    {
     "name": "stdout",
     "output_type": "stream",
     "text": [
      "Discuss your learnings on Chapter 3 time-frame 3:00 - 18:00. Minimum of 200 characters\n",
      "Chapter 3 learnings are the following\n",
      "\n",
      "Arrays can be declared in various ways in different languages.\n",
      "These are the basic operations supported by array, Traverse print all the array elements, Insertion adds an element, Deletion deletes an element, Search searches an element, and Update updates an element.\n",
      "Importing array module to the python program, just type - from array import *.\n"
     ]
    }
   ],
   "source": [
    "print(\"Discuss your learnings on Chapter 3 time-frame 3:00 - 18:00. Minimum of 200 characters\")\n",
    "\n",
    "print(\"Chapter 3 learnings are the following\")\n",
    "print(\"\\nArrays can be declared in various ways in different languages.\")\n",
    "print(\"These are the basic operations supported by array, Traverse print all the array elements, Insertion adds an element, Deletion deletes an element, Search searches an element, and Update updates an element.\")\n",
    "print(\"Importing array module to the python program, just type - from array import *.\")"
   ]
  },
  {
   "cell_type": "code",
   "execution_count": 10,
   "id": "complex-revision",
   "metadata": {
    "tags": []
   },
   "outputs": [
    {
     "name": "stdout",
     "output_type": "stream",
     "text": [
      "6\n",
      "7\n",
      "11\n",
      "12\n",
      "10\n"
     ]
    }
   ],
   "source": [
    "from array import *\n",
    "arrayName = array('i',[6,7,8,9,10])\n",
    "arrayName.insert(3,11)\n",
    "arrayName.remove(8)\n",
    "arrayName[3] = 12\n",
    "for q in arrayName:\n",
    "    print (q)"
   ]
  }
 ],
 "metadata": {
  "kernelspec": {
   "display_name": "Python 3",
   "language": "python",
   "name": "python3"
  },
  "language_info": {
   "codemirror_mode": {
    "name": "ipython",
    "version": 3
   },
   "file_extension": ".py",
   "mimetype": "text/x-python",
   "name": "python",
   "nbconvert_exporter": "python",
   "pygments_lexer": "ipython3",
   "version": "3.9.1"
  }
 },
 "nbformat": 4,
 "nbformat_minor": 5
}
